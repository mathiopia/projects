{
 "cells": [
  {
   "cell_type": "code",
   "execution_count": 3,
   "id": "1c4607a7",
   "metadata": {},
   "outputs": [
    {
     "name": "stdout",
     "output_type": "stream",
     "text": [
      "Welcome To my computer game\n",
      "do you want to play? yes\n",
      "okay let's play :) \n",
      "what is the brightest planet sun\n",
      "\u001b[31mIncorect! \n",
      "what is the largest planet on our solar system earth\n",
      "\u001b[31mIncorect! \n",
      "how many moon does earth have1\n",
      "\u001b[32mcorrect!\n",
      "\u001b[34mone last quetion\n",
      "is maths useful no\n",
      "\u001b[31mIncorect! \n",
      "your score is 1\n",
      "you have answerd 25 percent of the answers\n"
     ]
    }
   ],
   "source": [
    "import sys\n",
    "import colorama \n",
    "from colorama import Fore\n",
    "print('Welcome To my computer game')\n",
    "#inside of input function you can input what its called prompt\n",
    "#prompt is whats up before the user write something\n",
    "# if you are asking for thier names it stores what comes after the prompt as the value of the variable\n",
    "playing = input('do you want to play? ').lower()\n",
    "if playing.strip() != \"yes\"   :\n",
    "   sys.exit()\n",
    "print(\"okay let's play :) \")\n",
    "score = 0\n",
    "# i want to store the answer in input and ask the quetion\n",
    "answer= input(Fore.RED+'what is the brightest planet ').lower()\n",
    "if answer.strip() == 'venus':\n",
    "    print(Fore.GREEN+'correct!')\n",
    "    score = score+1\n",
    "else: \n",
    "    print(Fore.RED+'Incorect! ')\n",
    "    \n",
    "answer= input(Fore.RED+'what is the largest planet on our solar system ').lower()\n",
    "if answer.strip() == 'jupter':\n",
    "    print(Fore.GREEN+'correct!')\n",
    "    score = score+1\n",
    "else: \n",
    "    print(Fore.RED+'Incorect! ')\n",
    "answer= input(Fore.RED+'how many moon does earth have').lower()\n",
    "if answer.strip() == 'one' or answer.strip() == '1':\n",
    "    print(Fore.GREEN+'correct!')\n",
    "    score = score+1\n",
    "else: \n",
    "    print(Fore.RED+'Incorect! ')\n",
    "if score==3:\n",
    "    print(Fore.BLUE+'you are doing Good one last quetion')\n",
    "else:\n",
    "    print(Fore.BLUE+'one last quetion')\n",
    "answer= input(Fore.RED+'is maths useful ').lower()\n",
    "if answer.strip() == 'very much yes':\n",
    "    print(Fore.GREEN+'correct!')\n",
    "    score = score+1\n",
    "else: \n",
    "    print(Fore.RED+'Incorect! ')\n",
    "print(f'your score is {score}')\n",
    "print('you have answerd '+str(int((score/4)*100))+' percent of the answers')\n",
    "if score==4:\n",
    "    print(Fore.BLUE+'wonderfull you scored 4 out of 4 Great i am very pleased')\n",
    "    \n",
    "    print(Fore.YELLOW+'(      )\\n( o  o )\\n(  \\/  )')"
   ]
  },
  {
   "cell_type": "code",
   "execution_count": null,
   "id": "74d1fd9f",
   "metadata": {},
   "outputs": [],
   "source": []
  },
  {
   "cell_type": "code",
   "execution_count": null,
   "id": "29289f66",
   "metadata": {},
   "outputs": [],
   "source": []
  },
  {
   "cell_type": "code",
   "execution_count": 44,
   "id": "415ae998",
   "metadata": {},
   "outputs": [
    {
     "name": "stdout",
     "output_type": "stream",
     "text": [
      "Collecting termcolor\n",
      "  Downloading termcolor-1.1.0.tar.gz (3.9 kB)\n",
      "Building wheels for collected packages: termcolor\n",
      "  Building wheel for termcolor (setup.py): started\n",
      "  Building wheel for termcolor (setup.py): finished with status 'done'\n",
      "  Created wheel for termcolor: filename=termcolor-1.1.0-py3-none-any.whl size=4847 sha256=8fc1b45a108d4fe0359bf86993e00b2001ac8c8b63011cf54174ad12a8c99e4a\n",
      "  Stored in directory: c:\\users\\fitsum\\appdata\\local\\pip\\cache\\wheels\\b6\\0d\\90\\0d1bbd99855f99cb2f6c2e5ff96f8023fad8ec367695f7d72d\n",
      "Successfully built termcolor\n",
      "Installing collected packages: termcolor\n",
      "Successfully installed termcolor-1.1.0\n",
      "Note: you may need to restart the kernel to use updated packages.\n"
     ]
    },
    {
     "name": "stderr",
     "output_type": "stream",
     "text": [
      "WARNING: Retrying (Retry(total=4, connect=None, read=None, redirect=None, status=None)) after connection broken by 'ReadTimeoutError(\"HTTPSConnectionPool(host='pypi.org', port=443): Read timed out. (read timeout=15)\")': /simple/termcolor/\n",
      "WARNING: Retrying (Retry(total=3, connect=None, read=None, redirect=None, status=None)) after connection broken by 'ProtocolError('Connection aborted.', RemoteDisconnected('Remote end closed connection without response'))': /simple/termcolor/\n"
     ]
    }
   ],
   "source": [
    "\n"
   ]
  },
  {
   "cell_type": "code",
   "execution_count": null,
   "id": "6518aaac",
   "metadata": {},
   "outputs": [],
   "source": []
  }
 ],
 "metadata": {
  "kernelspec": {
   "display_name": "Python 3 (ipykernel)",
   "language": "python",
   "name": "python3"
  },
  "language_info": {
   "codemirror_mode": {
    "name": "ipython",
    "version": 3
   },
   "file_extension": ".py",
   "mimetype": "text/x-python",
   "name": "python",
   "nbconvert_exporter": "python",
   "pygments_lexer": "ipython3",
   "version": "3.9.7"
  }
 },
 "nbformat": 4,
 "nbformat_minor": 5
}
