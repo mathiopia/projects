{
 "cells": [
  {
   "cell_type": "code",
   "execution_count": null,
   "id": "f16333dd",
   "metadata": {},
   "outputs": [],
   "source": [
    "\n",
    "print('Welcome To my computer game')\n",
    "#inside of input function you can input what its called prompt\n",
    "#prompt is whats up before the user write something\n",
    "# if you are asking for thier names it stores what comes after the prompt as the value of the variable\n",
    "playing=input('do you want to play? ')\n",
    "if playing !='yes':\n",
    "    exit()\n",
    "print('ok les play:)')    \n"
   ]
  },
  {
   "cell_type": "code",
   "execution_count": null,
   "id": "3d00dcc6",
   "metadata": {},
   "outputs": [],
   "source": []
  }
 ],
 "metadata": {
  "kernelspec": {
   "display_name": "Python 3 (ipykernel)",
   "language": "python",
   "name": "python3"
  },
  "language_info": {
   "codemirror_mode": {
    "name": "ipython",
    "version": 3
   },
   "file_extension": ".py",
   "mimetype": "text/x-python",
   "name": "python",
   "nbconvert_exporter": "python",
   "pygments_lexer": "ipython3",
   "version": "3.9.7"
  }
 },
 "nbformat": 4,
 "nbformat_minor": 5
}
