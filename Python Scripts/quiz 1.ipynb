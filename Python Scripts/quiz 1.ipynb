{
 "cells": [
  {
   "cell_type": "code",
   "execution_count": 1,
   "id": "4a117c41",
   "metadata": {},
   "outputs": [
    {
     "name": "stdout",
     "output_type": "stream",
     "text": [
      "Welcome To my computer game\n",
      "do you want to play? yes\n",
      "okay let's play :) \n",
      "what is the brightest planet jupiter\n",
      "Incorect! \n",
      "what is the largest planet on our solar system jupter\n",
      "correct!\n",
      "how many moon does earth have1\n",
      "correct!\n",
      "is maths useful no\n",
      "Incorect! \n",
      "2\n"
     ]
    }
   ],
   "source": [
    "import sys\n",
    "print('Welcome To my computer game')\n",
    "#inside of input function you can input what its called prompt\n",
    "#prompt is whats up before the user write something\n",
    "# if you are asking for thier names it stores what comes after the prompt as the value of the variable\n",
    "playing = input('do you want to play? ')\n",
    "if playing != \"yes\":\n",
    "   sys.exit()\n",
    "print(\"okay let's play :) \")\n",
    "score = 0\n",
    "# i want to store the answer in input and ask the quetion\n",
    "answer= input('what is the brightest planet ')\n",
    "if answer == 'venus':\n",
    "    print('correct!')\n",
    "    score = score+1\n",
    "else: \n",
    "    print('Incorect! ')\n",
    "    \n",
    "answer= input('what is the largest planet on our solar system ')\n",
    "if answer == 'jupijuptrter':\n",
    "    print('correct!')\n",
    "    score = score+1\n",
    "else: \n",
    "    print('Incorect! ')\n",
    "answer= input('how many moon does earth have')\n",
    "if answer == 'one' or answer == '1':\n",
    "    print('correct!')\n",
    "    score = score+1\n",
    "else: \n",
    "    print('Incorect! ')\n",
    "answer= input('is maths useful ')\n",
    "if answer == 'very much yes':\n",
    "    print('correct!')\n",
    "    score = score+1\n",
    "else: \n",
    "    print('Incorect! ')\n",
    "print(score)"
   ]
  },
  {
   "cell_type": "code",
   "execution_count": null,
   "id": "1bdf26a6",
   "metadata": {},
   "outputs": [],
   "source": []
  }
 ],
 "metadata": {
  "kernelspec": {
   "display_name": "Python 3 (ipykernel)",
   "language": "python",
   "name": "python3"
  },
  "language_info": {
   "codemirror_mode": {
    "name": "ipython",
    "version": 3
   },
   "file_extension": ".py",
   "mimetype": "text/x-python",
   "name": "python",
   "nbconvert_exporter": "python",
   "pygments_lexer": "ipython3",
   "version": "3.9.7"
  }
 },
 "nbformat": 4,
 "nbformat_minor": 5
}
