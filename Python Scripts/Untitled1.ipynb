{
 "cells": [
  {
   "cell_type": "code",
   "execution_count": 4,
   "id": "53939e22",
   "metadata": {},
   "outputs": [],
   "source": [
    "import scipy as sp \n",
    "import sympy as smp\n",
    "import numpy as np\n",
    "import matplotlib.pyplot as plt \n"
   ]
  },
  {
   "cell_type": "code",
   "execution_count": 5,
   "id": "24d97db6",
   "metadata": {},
   "outputs": [],
   "source": [
    "from scipy.optimize import minimize"
   ]
  },
  {
   "cell_type": "code",
   "execution_count": 66,
   "id": "f892b2ed",
   "metadata": {},
   "outputs": [],
   "source": [
    "x,y,z=smp.symbols(\"x y z\")\n",
    "f=smp.symbols('f',cls=smp.Function,real=True)\n",
    "f=f(x,y)"
   ]
  },
  {
   "cell_type": "code",
   "execution_count": 22,
   "id": "8e63a781",
   "metadata": {},
   "outputs": [
    {
     "data": {
      "text/plain": [
       "2.9999999840660854"
      ]
     },
     "execution_count": 22,
     "metadata": {},
     "output_type": "execute_result"
    }
   ],
   "source": [
    "def g(x):\n",
    "    return (x-3)**2\n",
    "res=minimize(g,0)\n",
    "res.x[0]"
   ]
  },
  {
   "cell_type": "code",
   "execution_count": 34,
   "id": "9ab22330",
   "metadata": {},
   "outputs": [
    {
     "data": {
      "image/png": "[encoded data removed]",
      "text/plain": [
       "<Figure size 432x288 with 1 Axes>"
      ]
     },
     "metadata": {
      "needs_background": "light"
     },
     "output_type": "display_data"
    }
   ],
   "source": [
    "from scipy.misc import derivative\n",
    "def f(x):\n",
    "    return x**2*np.sin(2*x)*np.exp(-x)\n",
    "x=np.linspace(0,1,100)\n",
    "plt.plot(x,f(x))\n",
    "e=derivative(f,x,dx=1e-6)\n",
    "plt.plot(x,e)\n",
    "s=derivative(f,x,dx=1e-6,n=2)\n",
    "plt.plot(x,s)\n",
    "plt.show()\n"
   ]
  },
  {
   "cell_type": "code",
   "execution_count": 37,
   "id": "71cbe3e8",
   "metadata": {},
   "outputs": [],
   "source": [
    "from scipy.integrate import quad\n",
    "integrand=lambda x:x**2*np.sin(x)*np.exp(-x)\n",
    "integral,integral_error=quad(integrand,0,1)"
   ]
  },
  {
   "cell_type": "code",
   "execution_count": 38,
   "id": "d9f696a3",
   "metadata": {},
   "outputs": [
    {
     "data": {
      "text/plain": [
       "0.10246777930717413"
      ]
     },
     "execution_count": 38,
     "metadata": {},
     "output_type": "execute_result"
    }
   ],
   "source": [
    "integral"
   ]
  },
  {
   "cell_type": "code",
   "execution_count": 39,
   "id": "01940651",
   "metadata": {},
   "outputs": [
    {
     "data": {
      "text/plain": [
       "1.1376208786903388e-15"
      ]
     },
     "execution_count": 39,
     "metadata": {},
     "output_type": "execute_result"
    }
   ],
   "source": [
    "integral_error"
   ]
  },
  {
   "cell_type": "code",
   "execution_count": 41,
   "id": "4c7b84cc",
   "metadata": {},
   "outputs": [],
   "source": [
    "from scipy.integrate import dblquad\n",
    "integrand=lambda x ,y : np.sin(x+y**2)\n",
    "lwr=lambda x: -x\n",
    "upr=lambda x:x**2\n",
    "integral,integral_error=dblquad(integrand,0,1,lwr,upr)"
   ]
  },
  {
   "cell_type": "code",
   "execution_count": 57,
   "id": "af01ff05",
   "metadata": {},
   "outputs": [
    {
     "data": {
      "text/plain": [
       "0.315802507240474"
      ]
     },
     "execution_count": 57,
     "metadata": {},
     "output_type": "execute_result"
    }
   ],
   "source": [
    "integral"
   ]
  },
  {
   "cell_type": "code",
   "execution_count": 44,
   "id": "37a29493",
   "metadata": {},
   "outputs": [
    {
     "data": {
      "text/plain": [
       "<function __main__.g(x)>"
      ]
     },
     "execution_count": 44,
     "metadata": {},
     "output_type": "execute_result"
    }
   ],
   "source": []
  },
  {
   "cell_type": "code",
   "execution_count": 59,
   "id": "4ee515f3",
   "metadata": {},
   "outputs": [
    {
     "data": {
      "text/latex": [
       "$\\displaystyle f{\\left(x,y \\right)}$"
      ],
      "text/plain": [
       "f(x, y)"
      ]
     },
     "execution_count": 59,
     "metadata": {},
     "output_type": "execute_result"
    }
   ],
   "source": [
    "f"
   ]
  },
  {
   "cell_type": "code",
   "execution_count": 70,
   "id": "927ce82b",
   "metadata": {},
   "outputs": [
    {
     "data": {
      "text/latex": [
       "$\\displaystyle \\sin{\\left(x + y^{2} \\right)}$"
      ],
      "text/plain": [
       "sin(x + y**2)"
      ]
     },
     "execution_count": 70,
     "metadata": {},
     "output_type": "execute_result"
    }
   ],
   "source": [
    "f=smp.sin(x+y**2)\n",
    "f"
   ]
  },
  {
   "cell_type": "code",
   "execution_count": 56,
   "id": "dd4d361d",
   "metadata": {},
   "outputs": [
    {
     "data": {
      "text/latex": [
       "$\\displaystyle 0.102467779307174$"
      ],
      "text/plain": [
       "0.102467779307174"
      ]
     },
     "execution_count": 56,
     "metadata": {},
     "output_type": "execute_result"
    }
   ],
   "source": [
    "smp.integrate(f,(x,0,1)).evalf()"
   ]
  },
  {
   "cell_type": "code",
   "execution_count": 72,
   "id": "24e2ecd8",
   "metadata": {},
   "outputs": [
    {
     "data": {
      "text/latex": [
       "$\\displaystyle 0.576145618946797 C\\left(\\frac{\\sqrt{2} x}{\\sqrt{\\pi}}\\right) + 0.576145618946797 C\\left(\\frac{\\sqrt{2} x^{2}}{\\sqrt{\\pi}}\\right) + 1.05462748140053 S\\left(\\frac{\\sqrt{2} x}{\\sqrt{\\pi}}\\right) + 1.05462748140053 S\\left(\\frac{\\sqrt{2} x^{2}}{\\sqrt{\\pi}}\\right)$"
      ],
      "text/plain": [
       "0.576145618946797*fresnelc(sqrt(2)*x/sqrt(pi)) + 0.576145618946797*fresnelc(sqrt(2)*x**2/sqrt(pi)) + 1.05462748140053*fresnels(sqrt(2)*x/sqrt(pi)) + 1.05462748140053*fresnels(sqrt(2)*x**2/sqrt(pi))"
      ]
     },
     "execution_count": 72,
     "metadata": {},
     "output_type": "execute_result"
    }
   ],
   "source": [
    "smp.integrate(f,(x,0,1),(y,-x,x**2)).evalf()"
   ]
  }
 ],
 "metadata": {
  "kernelspec": {
   "display_name": "Python 3 (ipykernel)",
   "language": "python",
   "name": "python3"
  },
  "language_info": {
   "codemirror_mode": {
    "name": "ipython",
    "version": 3
   },
   "file_extension": ".py",
   "mimetype": "text/x-python",
   "name": "python",
   "nbconvert_exporter": "python",
   "pygments_lexer": "ipython3",
   "version": "3.9.7"
  }
 },
 "nbformat": 4,
 "nbformat_minor": 5
}
