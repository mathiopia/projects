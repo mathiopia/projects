{
 "cells": [
  {
   "cell_type": "raw",
   "id": "8561b155",
   "metadata": {},
   "source": []
  },
  {
   "cell_type": "code",
   "execution_count": 3,
   "id": "fa793beb",
   "metadata": {},
   "outputs": [],
   "source": [
    "import sympy as smp\n",
    "import matplotlib.pyplot as plt \n",
    "import numpy as np"
   ]
  },
  {
   "cell_type": "code",
   "execution_count": 5,
   "id": "7271ef68",
   "metadata": {},
   "outputs": [],
   "source": [
    "x ,y ,z=smp.symbols('x y z')"
   ]
  },
  {
   "cell_type": "code",
   "execution_count": 7,
   "id": "0e5146ed",
   "metadata": {},
   "outputs": [
    {
     "data": {
      "text/latex": [
       "$\\displaystyle \\sin{\\left(x \\right)}$"
      ],
      "text/plain": [
       "sin(x)"
      ]
     },
     "execution_count": 7,
     "metadata": {},
     "output_type": "execute_result"
    }
   ],
   "source": [
    "smp.sin(x)"
   ]
  },
  {
   "cell_type": "code",
   "execution_count": 9,
   "id": "bdbb9f65",
   "metadata": {},
   "outputs": [
    {
     "data": {
      "text/latex": [
       "$\\displaystyle \\frac{1}{4}$"
      ],
      "text/plain": [
       "1/4"
      ]
     },
     "execution_count": 9,
     "metadata": {},
     "output_type": "execute_result"
    }
   ],
   "source": [
    "smp.Rational(1,4)"
   ]
  },
  {
   "cell_type": "code",
   "execution_count": 12,
   "id": "e494f3ac",
   "metadata": {},
   "outputs": [
    {
     "data": {
      "text/latex": [
       "$\\displaystyle 9.86960440108936$"
      ],
      "text/plain": [
       "9.86960440108936"
      ]
     },
     "execution_count": 12,
     "metadata": {},
     "output_type": "execute_result"
    }
   ],
   "source": [
    "smp.limit(x**2,x,np.pi)"
   ]
  },
  {
   "cell_type": "code",
   "execution_count": 19,
   "id": "b60b59f4",
   "metadata": {},
   "outputs": [],
   "source": [
    "f , g =smp.symbols('f g' , cls= smp.Function)\n",
    "g=g(x)\n",
    "f=f(x+g)"
   ]
  },
  {
   "cell_type": "code",
   "execution_count": 26,
   "id": "26c503ac",
   "metadata": {},
   "outputs": [
    {
     "data": {
      "text/latex": [
       "$\\displaystyle \\left(\\frac{d}{d x} g{\\left(x \\right)} + 1\\right) \\left. \\frac{d}{d \\xi_{1}} f{\\left(\\xi_{1} \\right)} \\right|_{\\substack{ \\xi_{1}=x + g{\\left(x \\right)} }}$"
      ],
      "text/plain": [
       "(Derivative(g(x), x) + 1)*Subs(Derivative(f(_xi_1), _xi_1), _xi_1, x + g(x))"
      ]
     },
     "execution_count": 26,
     "metadata": {},
     "output_type": "execute_result"
    }
   ],
   "source": [
    "dydx=smp.diff(f,x)\n",
    "dydx"
   ]
  },
  {
   "cell_type": "code",
   "execution_count": 29,
   "id": "eb4a3a3f",
   "metadata": {},
   "outputs": [
    {
     "data": {
      "text/latex": [
       "$\\displaystyle \\left(\\cos{\\left(x \\right)} + 1\\right) \\left. \\frac{d}{d \\xi_{1}} f{\\left(\\xi_{1} \\right)} \\right|_{\\substack{ \\xi_{1}=x + \\sin{\\left(x \\right)} }}$"
      ],
      "text/plain": [
       "(cos(x) + 1)*Subs(Derivative(f(_xi_1), _xi_1), _xi_1, x + sin(x))"
      ]
     },
     "execution_count": 29,
     "metadata": {},
     "output_type": "execute_result"
    }
   ],
   "source": [
    "dydx.subs(g,smp.sin(x)).doit()"
   ]
  },
  {
   "cell_type": "code",
   "execution_count": 32,
   "id": "c1c0f3c0",
   "metadata": {},
   "outputs": [
    {
     "data": {
      "text/latex": [
       "$\\displaystyle - \\frac{1}{\\sin{\\left(x \\right)}}$"
      ],
      "text/plain": [
       "-1/sin(x)"
      ]
     },
     "execution_count": 32,
     "metadata": {},
     "output_type": "execute_result"
    }
   ],
   "source": [
    "smp.integrate(smp.csc(x)*smp.cot(x),x)"
   ]
  },
  {
   "cell_type": "code",
   "execution_count": 35,
   "id": "3ab02389",
   "metadata": {},
   "outputs": [
    {
     "data": {
      "text/latex": [
       "$\\displaystyle - \\operatorname{asinh}{\\left(\\frac{1}{3} \\right)} + \\operatorname{asinh}{\\left(\\frac{4}{3} \\right)}$"
      ],
      "text/plain": [
       "-asinh(1/3) + asinh(4/3)"
      ]
     },
     "execution_count": 35,
     "metadata": {},
     "output_type": "execute_result"
    }
   ],
   "source": [
    "smp.integrate( smp.exp(x) / smp.sqrt( smp.exp(2*x) + 9),(x , 0, smp.log(4)))"
   ]
  },
  {
   "cell_type": "code",
   "execution_count": 37,
   "id": "c5d482c6",
   "metadata": {},
   "outputs": [
    {
     "data": {
      "text/latex": [
       "$\\displaystyle - \\left(t^{10} - 10 t^{9} + 90 t^{8} - 720 t^{7} + 5040 t^{6} - 30240 t^{5} + 151200 t^{4} - 604800 t^{3} + 1814400 t^{2} - 3628800 t + 3628800\\right) e^{t} + 1334961 e$"
      ],
      "text/plain": [
       "-(t**10 - 10*t**9 + 90*t**8 - 720*t**7 + 5040*t**6 - 30240*t**5 + 151200*t**4 - 604800*t**3 + 1814400*t**2 - 3628800*t + 3628800)*exp(t) + 1334961*E"
      ]
     },
     "execution_count": 37,
     "metadata": {},
     "output_type": "execute_result"
    }
   ],
   "source": [
    "t=smp.symbols('t')\n",
    "smp.integrate(x**10*smp.exp(x),(x,t,1))"
   ]
  },
  {
   "cell_type": "code",
   "execution_count": 8,
   "id": "5c00aef4",
   "metadata": {},
   "outputs": [],
   "source": [
    "t,x,y,z,u,v,w,u2,u3,u1,v1,v2,v3=smp.symbols(\"t x y z u v w u2 u3 u1 v1 v2 v3\")\n"
   ]
  },
  {
   "cell_type": "code",
   "execution_count": 5,
   "id": "340ba818",
   "metadata": {},
   "outputs": [],
   "source": [
    "u=smp.Matrix([x,y,z])\n",
    "v=smp.Matrix([2*x,3*y,z])"
   ]
  },
  {
   "cell_type": "code",
   "execution_count": 6,
   "id": "8f0ba840",
   "metadata": {},
   "outputs": [
    {
     "data": {
      "text/latex": [
       "$\\displaystyle 2 x^{2} + 3 y^{2} + z^{2}$"
      ],
      "text/plain": [
       "2*x**2 + 3*y**2 + z**2"
      ]
     },
     "execution_count": 6,
     "metadata": {},
     "output_type": "execute_result"
    }
   ],
   "source": [
    "u.cross(v)\n",
    "u.dot(v)"
   ]
  },
  {
   "cell_type": "code",
   "execution_count": 72,
   "id": "33404455",
   "metadata": {},
   "outputs": [],
   "source": [
    "r=smp.Matrix([3*t,smp.sin(t),8])\n",
    "V=smp.diff(r,t)\n",
    "a=smp.diff(V,t)\n"
   ]
  },
  {
   "cell_type": "code",
   "execution_count": 73,
   "id": "97e839d4",
   "metadata": {},
   "outputs": [
    {
     "data": {
      "text/latex": [
       "$\\displaystyle \\operatorname{acos}{\\left(- \\frac{\\sin{\\left(2 t \\right)}}{2 \\sqrt{\\left|{\\cos{\\left(t \\right)}}\\right|^{2} + 9} \\left|{\\sin{\\left(t \\right)}}\\right|} \\right)}$"
      ],
      "text/plain": [
       "acos(-sin(2*t)/(2*sqrt(Abs(cos(t))**2 + 9)*Abs(sin(t))))"
      ]
     },
     "execution_count": 73,
     "metadata": {},
     "output_type": "execute_result"
    }
   ],
   "source": [
    "theta=smp.acos(V.dot(a)/(V.norm()*a.norm())).simplify()\n",
    "theta"
   ]
  },
  {
   "cell_type": "code",
   "execution_count": 76,
   "id": "ecadc61a",
   "metadata": {},
   "outputs": [
    {
     "data": {
      "text/latex": [
       "$\\displaystyle 1.2610418934267$"
      ],
      "text/plain": [
       "1.26104189342670"
      ]
     },
     "execution_count": 76,
     "metadata": {},
     "output_type": "execute_result"
    }
   ],
   "source": [
    "theta.subs(t,6).evalf()"
   ]
  },
  {
   "cell_type": "code",
   "execution_count": 80,
   "id": "bbe25c98",
   "metadata": {},
   "outputs": [],
   "source": [
    "m_o=smp.symbols('\\mu_0')"
   ]
  },
  {
   "cell_type": "code",
   "execution_count": 81,
   "id": "0468fffc",
   "metadata": {},
   "outputs": [
    {
     "data": {
      "text/latex": [
       "$\\displaystyle \\mu_{0}$"
      ],
      "text/plain": [
       "\\mu_0"
      ]
     },
     "execution_count": 81,
     "metadata": {},
     "output_type": "execute_result"
    }
   ],
   "source": [
    "m_o"
   ]
  },
  {
   "cell_type": "code",
   "execution_count": 91,
   "id": "dcf80760",
   "metadata": {},
   "outputs": [],
   "source": [
    "t=smp.symbols('t')\n",
    "x,y,z,w=smp.symbols(\"x y z w\",cls=smp.Function)"
   ]
  },
  {
   "cell_type": "code",
   "execution_count": 92,
   "id": "c7879e80",
   "metadata": {},
   "outputs": [],
   "source": [
    "x=x(t)\n",
    "y=y(t)\n",
    "z=z(t)\n",
    "w=w(x,y,z)"
   ]
  },
  {
   "cell_type": "code",
   "execution_count": 94,
   "id": "128d0f47",
   "metadata": {},
   "outputs": [
    {
     "data": {
      "text/latex": [
       "$\\displaystyle \\frac{d}{d x{\\left(t \\right)}} w{\\left(x{\\left(t \\right)},y{\\left(t \\right)},z{\\left(t \\right)} \\right)} \\frac{d}{d t} x{\\left(t \\right)} + \\frac{d}{d y{\\left(t \\right)}} w{\\left(x{\\left(t \\right)},y{\\left(t \\right)},z{\\left(t \\right)} \\right)} \\frac{d}{d t} y{\\left(t \\right)} + \\frac{d}{d z{\\left(t \\right)}} w{\\left(x{\\left(t \\right)},y{\\left(t \\right)},z{\\left(t \\right)} \\right)} \\frac{d}{d t} z{\\left(t \\right)}$"
      ],
      "text/plain": [
       "Derivative(w(x(t), y(t), z(t)), x(t))*Derivative(x(t), t) + Derivative(w(x(t), y(t), z(t)), y(t))*Derivative(y(t), t) + Derivative(w(x(t), y(t), z(t)), z(t))*Derivative(z(t), t)"
      ]
     },
     "execution_count": 94,
     "metadata": {},
     "output_type": "execute_result"
    }
   ],
   "source": [
    "smp.diff(w,t)"
   ]
  },
  {
   "cell_type": "code",
   "execution_count": 97,
   "id": "4d9270fb",
   "metadata": {},
   "outputs": [
    {
     "data": {
      "text/latex": [
       "$\\displaystyle \\frac{1}{8}$"
      ],
      "text/plain": [
       "1/8"
      ]
     },
     "execution_count": 97,
     "metadata": {},
     "output_type": "execute_result"
    }
   ],
   "source": [
    "\n",
    "x,y,z=smp.symbols('x y z')\n",
    "f=x\n",
    "smp.integrate(f,(z,3, 4-x**2 - y**2),(y,0,1-x**2),(x,0,1))"
   ]
  },
  {
   "cell_type": "code",
   "execution_count": 99,
   "id": "b967d7c5",
   "metadata": {},
   "outputs": [
    {
     "data": {
      "text/latex": [
       "$\\displaystyle x^{3} \\sin{\\left(x \\right)} + x \\cos{\\left(y \\right)}$"
      ],
      "text/plain": [
       "x**3*sin(x) + x*cos(y)"
      ]
     },
     "execution_count": 99,
     "metadata": {},
     "output_type": "execute_result"
    }
   ],
   "source": [
    "def fx(x,y):\n",
    "    f=smp.sin(x)*x**3+smp.cos(y)*x\n",
    "    return f\n",
    "fx(x,y)"
   ]
  },
  {
   "cell_type": "code",
   "execution_count": 104,
   "id": "7cfcd413",
   "metadata": {},
   "outputs": [
    {
     "data": {
      "text/latex": [
       "$\\displaystyle 0$"
      ],
      "text/plain": [
       "0"
      ]
     },
     "execution_count": 104,
     "metadata": {},
     "output_type": "execute_result"
    }
   ],
   "source": [
    "\n",
    "smp.limit(1/x,x,smp.oo)"
   ]
  },
  {
   "cell_type": "code",
   "execution_count": 111,
   "id": "44502ef5",
   "metadata": {},
   "outputs": [
    {
     "data": {
      "text/latex": [
       "$\\displaystyle - \\frac{1}{x^{2}}$"
      ],
      "text/plain": [
       "-1/x**2"
      ]
     },
     "execution_count": 111,
     "metadata": {},
     "output_type": "execute_result"
    }
   ],
   "source": []
  },
  {
   "cell_type": "code",
   "execution_count": 10,
   "id": "07ffbc9d",
   "metadata": {},
   "outputs": [],
   "source": [
    "x,y =smp.symbols(\"x y\")"
   ]
  },
  {
   "cell_type": "code",
   "execution_count": 19,
   "id": "47f80e7a",
   "metadata": {},
   "outputs": [],
   "source": [
    "f ,r=smp.symbols(\"f r\",cls=smp.Function)\n",
    "r=r(x,y)\n",
    "f=f(x+r)"
   ]
  },
  {
   "cell_type": "code",
   "execution_count": 22,
   "id": "201d1ebb",
   "metadata": {},
   "outputs": [
    {
     "data": {
      "text/latex": [
       "$\\displaystyle \\left(\\frac{\\partial}{\\partial x} r{\\left(x,y \\right)} + 1\\right) \\left. \\frac{d}{d \\xi_{1}} f{\\left(\\xi_{1} \\right)} \\right|_{\\substack{ \\xi_{1}=x + r{\\left(x,y \\right)} }}$"
      ],
      "text/plain": [
       "(Derivative(r(x, y), x) + 1)*Subs(Derivative(f(_xi_1), _xi_1), _xi_1, x + r(x, y))"
      ]
     },
     "execution_count": 22,
     "metadata": {},
     "output_type": "execute_result"
    }
   ],
   "source": [
    "smp.diff(f,x)"
   ]
  },
  {
   "cell_type": "code",
   "execution_count": 24,
   "id": "251b74a9",
   "metadata": {},
   "outputs": [
    {
     "data": {
      "text/latex": [
       "$\\displaystyle \\sin{\\left(x \\right)}$"
      ],
      "text/plain": [
       "sin(x)"
      ]
     },
     "execution_count": 24,
     "metadata": {},
     "output_type": "execute_result"
    }
   ],
   "source": [
    "smp.sin(x)"
   ]
  },
  {
   "cell_type": "code",
   "execution_count": 44,
   "id": "2f0682c1",
   "metadata": {},
   "outputs": [
    {
     "data": {
      "text/latex": [
       "$\\displaystyle \\frac{x^{3} y}{3} + x^{2} + x$"
      ],
      "text/plain": [
       "x**3*y/3 + x**2 + x"
      ]
     },
     "execution_count": 44,
     "metadata": {},
     "output_type": "execute_result"
    }
   ],
   "source": [
    "g=x**2*y + 2*x +1\n",
    "smp.integrate(g,x)"
   ]
  },
  {
   "cell_type": "code",
   "execution_count": 36,
   "id": "80b83273",
   "metadata": {},
   "outputs": [],
   "source": [
    "r=smp.sin(x)*y+smp.cos(y)*y**3"
   ]
  },
  {
   "cell_type": "code",
   "execution_count": 41,
   "id": "b3e8b231",
   "metadata": {},
   "outputs": [
    {
     "data": {
      "text/latex": [
       "$\\displaystyle - \\cos{\\left(x \\right)}$"
      ],
      "text/plain": [
       "-cos(x)"
      ]
     },
     "execution_count": 41,
     "metadata": {},
     "output_type": "execute_result"
    }
   ],
   "source": [
    "smp.diff(r,x,y,x,x)"
   ]
  },
  {
   "cell_type": "code",
   "execution_count": 50,
   "id": "b1d7ac78",
   "metadata": {},
   "outputs": [
    {
     "data": {
      "text/latex": [
       "$\\displaystyle y \\sin^{2}{\\left(y \\right)} + 2 \\sin{\\left(y \\right)} + 1$"
      ],
      "text/plain": [
       "y*sin(y)**2 + 2*sin(y) + 1"
      ]
     },
     "execution_count": 50,
     "metadata": {},
     "output_type": "execute_result"
    }
   ],
   "source": [
    "smp.limit(g,x,smp.sin(y))"
   ]
  },
  {
   "cell_type": "code",
   "execution_count": 51,
   "id": "60d4052c",
   "metadata": {},
   "outputs": [
    {
     "data": {
      "text/latex": [
       "$\\displaystyle \\frac{1}{4}$"
      ],
      "text/plain": [
       "1/4"
      ]
     },
     "execution_count": 51,
     "metadata": {},
     "output_type": "execute_result"
    }
   ],
   "source": [
    "smp.Rational(1/4)"
   ]
  },
  {
   "cell_type": "code",
   "execution_count": 52,
   "id": "984f0d79",
   "metadata": {},
   "outputs": [
    {
     "data": {
      "text/plain": [
       "0.25"
      ]
     },
     "execution_count": 52,
     "metadata": {},
     "output_type": "execute_result"
    }
   ],
   "source": [
    "1/4"
   ]
  },
  {
   "cell_type": "code",
   "execution_count": null,
   "id": "349b9c54",
   "metadata": {},
   "outputs": [],
   "source": []
  }
 ],
 "metadata": {
  "kernelspec": {
   "display_name": "Python 3 (ipykernel)",
   "language": "python",
   "name": "python3"
  },
  "language_info": {
   "codemirror_mode": {
    "name": "ipython",
    "version": 3
   },
   "file_extension": ".py",
   "mimetype": "text/x-python",
   "name": "python",
   "nbconvert_exporter": "python",
   "pygments_lexer": "ipython3",
   "version": "3.9.7"
  }
 },
 "nbformat": 4,
 "nbformat_minor": 5
}
