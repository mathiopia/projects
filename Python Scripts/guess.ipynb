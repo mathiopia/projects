{
 "cells": [
  {
   "cell_type": "code",
   "execution_count": 2,
   "id": "debe2094",
   "metadata": {},
   "outputs": [
    {
     "name": "stdout",
     "output_type": "stream",
     "text": [
      "type a number500\n",
      "guess a number 450\n",
      "\u001b[31myou are above the number\n",
      "guess a number 150\n",
      "\u001b[33myou are below the number\n",
      "guess a number 300\n",
      "\u001b[31myou are above the number\n",
      "guess a number 200\n",
      "\u001b[33myou are below the number\n",
      "guess a number 250\n",
      "\u001b[31myou are above the number\n",
      "guess a number 230\n",
      "\u001b[33myou are below the number\n",
      "guess a number 240\n",
      "\u001b[31myou are above the number\n",
      "guess a number 235\n",
      "\u001b[31myou are above the number\n",
      "guess a number 233\n",
      "\u001b[31myou are above the number\n",
      "guess a number 232\n",
      "\u001b[31myou are above the number\n",
      "guess a number 231\n",
      "you correctly guessed \n",
      "you got it in 11 number of guesses\n"
     ]
    }
   ],
   "source": [
    "import random\n",
    "import sys\n",
    "import colorama \n",
    "from colorama import Fore\n",
    "\n",
    "rand_generator=input('type a number')\n",
    "if rand_generator.isdigit() :\n",
    "    rand_generator=int(rand_generator)\n",
    "    if rand_generator <=0 :\n",
    "        print('next time input a number grater than 0')\n",
    "        sys.exit()\n",
    "else:\n",
    "    print('please input numbers only')\n",
    "    sys.exit()\n",
    "r=random.randint(0,rand_generator)\n",
    "num_try=0\n",
    "while True:\n",
    "    num_try+=1\n",
    "    guess=input('guess a number ')\n",
    "    if guess.isdigit():\n",
    "        guess=int(guess)\n",
    "    else:\n",
    "        print('please input numbers only')\n",
    "        continue\n",
    "    if guess !=r:\n",
    "        if guess> r:\n",
    "            print(Fore.RED+'you are above the number')\n",
    "        else :\n",
    "            print(Fore.YELLOW+'you are below the number')\n",
    "        \n",
    "        continue\n",
    "    else:\n",
    "        print('you correctly guessed ')\n",
    "        print('you got it in',num_try,'number of guesses')\n",
    "        break\n",
    "        \n",
    "    "
   ]
  },
  {
   "cell_type": "markdown",
   "id": "2e8a38db",
   "metadata": {},
   "source": []
  }
 ],
 "metadata": {
  "kernelspec": {
   "display_name": "Python 3 (ipykernel)",
   "language": "python",
   "name": "python3"
  },
  "language_info": {
   "codemirror_mode": {
    "name": "ipython",
    "version": 3
   },
   "file_extension": ".py",
   "mimetype": "text/x-python",
   "name": "python",
   "nbconvert_exporter": "python",
   "pygments_lexer": "ipython3",
   "version": "3.9.7"
  }
 },
 "nbformat": 4,
 "nbformat_minor": 5
}
